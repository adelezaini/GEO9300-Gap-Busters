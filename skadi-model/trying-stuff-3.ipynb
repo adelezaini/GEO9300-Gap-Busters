{
 "cells": [
  {
   "cell_type": "code",
   "execution_count": null,
   "id": "cb85c19b-3b38-43d1-b70b-d8c1edb2836f",
   "metadata": {},
   "outputs": [],
   "source": [
    "# Load the temperature and humidity datasets\n",
    "temp_data = pd.read_csv('../../data/input_synthetic_dataset/Tair_Tuddal_2019.csv')\n",
    "rh_data = pd.read_csv('../../data/input_synthetic_dataset/RH_Tuddal_2019.csv')\n",
    "\n",
    "# Ensure consistent datetime index\n",
    "temp_data['time'] = pd.to_datetime(temp_data['time'])\n",
    "rh_data['time'] = pd.to_datetime(rh_data['time'])\n",
    "temp_data.set_index('time', inplace=True)\n",
    "rh_data.set_index('time', inplace=True)\n",
    "\n",
    "# Add temperature and humidity to the main data frame\n",
    "data['temperature'] = temp_data['Tair']\n",
    "data['humidity'] = rh_data['RH']\n",
    "\n",
    "# Define parameters for melting\n",
    "melting_temp_threshold = 273  # Melting occurs above 0°C\n",
    "degree_day_factor = 3.0  # Melting rate in mm/°C/day, for simplicity\n",
    "rain_melting_factor = 0.0125 # 0.5  # Rain contributes directly to melting\n",
    "\n",
    "# Calculate melting rate\n",
    "# Melting from temperature (only when temperature > 0°C)\n",
    "data['temp_melt'] = data.apply(\n",
    "    lambda row: max(row['temperature'] - melting_temp_threshold, 0) * row['time_delta'] / 86400 * degree_day_factor, axis=1\n",
    ")\n",
    "\n",
    "# Melting from rain (assuming rain contributes directly to melting)\n",
    "data['rain_melt'] = data['Rainf'] * data['time_delta'] * rain_melting_factor\n",
    "\n",
    "# Total melt\n",
    "data['total_melt'] = data['temp_melt'] + data['rain_melt']\n",
    "\n",
    "# Adjust cumulative snow cover by subtracting melt\n",
    "data['adjusted_cumulative_snow_cover'] = (data['cumulative_snow_cover'] - data['total_melt'].cumsum()).clip(lower=0)\n",
    "\n",
    "# Plotting the adjusted cumulative snow cover\n",
    "plt.figure(figsize=(12, 6))\n",
    "plt.plot(data.index, data['adjusted_cumulative_snow_cover'], label='Adjusted Cumulative Snow Cover (mm)', color='red')\n",
    "plt.xlabel('Date')\n",
    "plt.ylabel('Adjusted Cumulative Snow Cover (mm)')\n",
    "plt.title('Adjusted Cumulative Snow Cover Over Time with Melting Considered in Tuddal 2019')\n",
    "plt.legend()\n",
    "plt.grid(True)\n",
    "plt.show()"
   ]
  }
 ],
 "metadata": {
  "kernelspec": {
   "display_name": "Python 3 (ipykernel)",
   "language": "python",
   "name": "python3"
  },
  "language_info": {
   "codemirror_mode": {
    "name": "ipython",
    "version": 3
   },
   "file_extension": ".py",
   "mimetype": "text/x-python",
   "name": "python",
   "nbconvert_exporter": "python",
   "pygments_lexer": "ipython3",
   "version": "3.12.4"
  }
 },
 "nbformat": 4,
 "nbformat_minor": 5
}
